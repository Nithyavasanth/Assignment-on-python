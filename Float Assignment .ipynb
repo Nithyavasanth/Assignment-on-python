{
 "cells": [
  {
   "cell_type": "code",
   "execution_count": 3,
   "id": "d46439ce",
   "metadata": {},
   "outputs": [
    {
     "name": "stdout",
     "output_type": "stream",
     "text": [
      "id =  2236042832464\n",
      "Type =  <class 'float'>\n"
     ]
    }
   ],
   "source": [
    "# Q. Declare a float value and store it in a variable.\n",
    "# Check the type and print the id of the same.\n",
    "variable1 = 23.2\n",
    "print(\"id = \",id(variable1))\n",
    "print(\"Type = \",type(variable1))"
   ]
  },
  {
   "cell_type": "code",
   "execution_count": 5,
   "id": "27a044ee",
   "metadata": {},
   "outputs": [
    {
     "name": "stdout",
     "output_type": "stream",
     "text": [
      "Enter the 1st float value: 2.2\n",
      "Enter the 2st float value: 2.2\n",
      "Addition of 2.2 and 2.2 is           = 4.4\n",
      "Substraction of 2.2 and 2.2 is       = 0.0\n",
      "Product of 2.2 and 2.2 is            = 4.840000000000001\n",
      "Float devision of 2.2 and 2.2 is     = 1.0\n",
      "Modules(Remainder) of 2.2 and 2.2 is = 0.0\n",
      "Floor division of 2.2 and 2.2 is     = 1.0\n",
      "Power of 2.2 and 2.2 is              = 5.666695778750081\n"
     ]
    }
   ],
   "source": [
    "# Q. Arithmetic Operations on float\n",
    "# Take two different float values.\n",
    "# Store them in two different variables.\n",
    "# Do below operations on them:-\n",
    "# Find sum of both numbers\n",
    "# Find difference between them\n",
    "# Find the product of both numbers.\n",
    "# Find value after dividing first num with second number\n",
    "# Find the remainder after dividing first number with second number\n",
    "# Find the quotient after dividing first number with second number\n",
    "# Find the result of the first num to the power of the second number.\n",
    "\n",
    "\n",
    "#===============================================================================================================================\n",
    "#Answer:\n",
    "\n",
    "num1= float(input(\"Enter the 1st float value: \"))\n",
    "num2= float(input(\"Enter the 2st float value: \"))\n",
    "print(f'Addition of {num1} and {num2} is           = {num1+num2}')\n",
    "print(f'Substraction of {num1} and {num2} is       = {num1-num2}')\n",
    "print(f'Product of {num1} and {num2} is            = {num1*num2}')\n",
    "print(f'Float devision of {num1} and {num2} is     = {num1/num2}')\n",
    "print(f'Modules(Remainder) of {num1} and {num2} is = {num1%num2}')\n",
    "print(f'Floor division of {num1} and {num2} is     = {num1//num2}')\n",
    "print(f'Power of {num1} and {num2} is              = {num1**num2}')"
   ]
  },
  {
   "cell_type": "code",
   "execution_count": 8,
   "id": "c5dcb7a6",
   "metadata": {},
   "outputs": [
    {
     "name": "stdout",
     "output_type": "stream",
     "text": [
      "Enter the 1st value: 2.5\n",
      "Enter the 2st value: 2.46\n",
      "Greater than operator 2.5 > 2.46     = True\n",
      "Less than operator 2.5 < 2.46        = False\n",
      "Greater than or equal to 2.5 >= 2.46 = True\n",
      "Less than or equal to 2.5 <= 2.46    = False\n"
     ]
    }
   ],
   "source": [
    "# Comparison Operators on float\n",
    "# Take two different float values.\n",
    "# Store them in two different variables.\n",
    "# Do below operations on them:-\n",
    "# Compare these two numbers with below operator:-\n",
    "# Greater than, '>'\n",
    "# Smaller than, '<'\n",
    "# Greater than or equal to, '>='\n",
    "# Less than or equal to, '<='\n",
    "# Observe their output(return type should be boolean)\n",
    "#===============================================================================================================================\n",
    "#Answer:\n",
    "\n",
    "value1 = float(input(\"Enter the 1st value: \"))\n",
    "value2 = float(input(\"Enter the 2st value: \"))\n",
    "print(f\"Greater than operator {value1} > {value2}     = {value1>value2}\")\n",
    "print(f\"Less than operator {value1} < {value2}        = {value1<value2}\")\n",
    "print(f\"Greater than or equal to {value1} >= {value2} = {value1>=value2}\")\n",
    "print(f\"Less than or equal to {value1} <= {value2}    = {value1<=value2}\")\n"
   ]
  },
  {
   "cell_type": "code",
   "execution_count": 9,
   "id": "e6c2887f",
   "metadata": {},
   "outputs": [
    {
     "name": "stdout",
     "output_type": "stream",
     "text": [
      "Enter the 1st value: 2.2\n",
      "Enter the 2st value: 2.4\n",
      "Equality operator output is False\n",
      "Not Equal operator output is True\n"
     ]
    }
   ],
   "source": [
    "# Q. Equality Operator\n",
    "# Take two different float values.\n",
    "# Store them in two different variables.\n",
    "# Equate them using equality operators (==, !=)\n",
    "# Observe the output(return type should be boolean)\n",
    "#===============================================================================================================================\n",
    "#Answer:\n",
    "\n",
    "value1 = float(input(\"Enter the 1st value: \"))\n",
    "value2 = float(input(\"Enter the 2st value: \"))\n",
    "print(\"Equality operator output is\",value1==value2)\n",
    "print(\"Not Equal operator output is\",value1!=value2)\n"
   ]
  },
  {
   "cell_type": "code",
   "execution_count": 3,
   "id": "2d593057",
   "metadata": {},
   "outputs": [
    {
     "name": "stdout",
     "output_type": "stream",
     "text": [
      "20.3\n",
      "0.0\n",
      "0.0\n",
      "0.0\n",
      "10.2\n",
      "20.3\n",
      "20.3\n",
      "0.0\n",
      "False\n",
      "True\n"
     ]
    }
   ],
   "source": [
    "# Logical operators\n",
    "# Observe the output of below code\n",
    "# Cross check the output manually\n",
    "#===============================================================================================================================\n",
    "#Answer:\n",
    "\n",
    "print(10.20 and 20.30)    #20.30\n",
    "\n",
    "print(0.0 and 20.30)      #0.0\n",
    "print(20.30 and 0.0)      #0.0\n",
    "print(0.0 and 0.0)        #0.0\n",
    "print(10.20 or 20.30)     #10.20\n",
    "print(0.0 or 20.30)       #20.30\n",
    "print(20.30 or 0.0)       #20.30\n",
    "print(0.0 or 0.0)         #0.0\n",
    "print(not 10.20)          #Flase\n",
    "print(not 0.0)            #True"
   ]
  },
  {
   "cell_type": "code",
   "execution_count": 14,
   "id": "0b5536aa",
   "metadata": {},
   "outputs": [
    {
     "name": "stdout",
     "output_type": "stream",
     "text": [
      "3154863126224\n",
      "3154863126224\n",
      "True\n",
      "False\n"
     ]
    }
   ],
   "source": [
    "# Q. What is the output of expression inside print statement. Cross check\n",
    "# before running the program.\n",
    "# a = 10.20\n",
    "# b - 10.20\n",
    "# print(a is b) #True or False? True 10.20<256\n",
    "# print(a is not b) #True or False? False\n",
    "# Why the Id of float values are different when the same value is\n",
    "# assigned to two different variables\n",
    "# ex: a = 10.5 b=10.5. but id will be same if I assign the variable\n",
    "# having float i.e. a=c then both a and c's Id are same\n",
    "\n",
    "a = 12.5\n",
    "b = a\n",
    "print(id(a))\n",
    "print(id(b))\n",
    "print(a is b)\n",
    "print(a is not b)\n",
    "# As per the Object reuasibily concept , Python preloaded the memory address of Interger in between(-5 to -256)the range \n",
    "# Any integer value outside of this range ,python will allocate the different memory address"
   ]
  },
  {
   "cell_type": "code",
   "execution_count": 15,
   "id": "92c173a4",
   "metadata": {},
   "outputs": [
    {
     "name": "stdout",
     "output_type": "stream",
     "text": [
      "True\n",
      "True\n",
      "True\n",
      "True\n",
      "True\n",
      "True\n"
     ]
    }
   ],
   "source": [
    "# Q. Membership operation\n",
    "# in, not in are two membership operators and it returns boolean value\n",
    "print('2.7' in 'Python2.7.8')   # False\n",
    "print(10.20 in [10,10.20,10+20j,'Python']) #True\n",
    "print(10.20 in (10,10.20,10+20j,'Python')) #True\n",
    "print(20.30 in {1,20.30,30+40j})           #True\n",
    "print(2.3 in {1:100, 2.3:200, 30+40j:300}) #True\n",
    "print(10 in range(20))                     #True"
   ]
  }
 ],
 "metadata": {
  "kernelspec": {
   "display_name": "Python 3 (ipykernel)",
   "language": "python",
   "name": "python3"
  },
  "language_info": {
   "codemirror_mode": {
    "name": "ipython",
    "version": 3
   },
   "file_extension": ".py",
   "mimetype": "text/x-python",
   "name": "python",
   "nbconvert_exporter": "python",
   "pygments_lexer": "ipython3",
   "version": "3.9.7"
  }
 },
 "nbformat": 4,
 "nbformat_minor": 5
}
