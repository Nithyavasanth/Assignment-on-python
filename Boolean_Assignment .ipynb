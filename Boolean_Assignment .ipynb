{
 "cells": [
  {
   "cell_type": "code",
   "execution_count": 1,
   "id": "9d32091b",
   "metadata": {},
   "outputs": [
    {
     "name": "stdout",
     "output_type": "stream",
     "text": [
      "140718316869736\n",
      "<class 'bool'>\n"
     ]
    }
   ],
   "source": [
    "# Q. Declare a boolean value and store it in a variable.\n",
    "# Check the type and print the id of the same.\n",
    "\n",
    "var = True \n",
    "print(id(var))\n",
    "print(type(var))"
   ]
  },
  {
   "cell_type": "code",
   "execution_count": 4,
   "id": "9dd9b024",
   "metadata": {},
   "outputs": [
    {
     "name": "stdout",
     "output_type": "stream",
     "text": [
      "Id of a and b is 140718978193512 , 140718978193512\n"
     ]
    }
   ],
   "source": [
    "# Q. Take one boolean value between 0 - 256.\n",
    "# Assign it to two different variables.\n",
    "# Check the id of both the variables. It should come the same. Check why?\n",
    "\n",
    "a = True\n",
    "b = True\n",
    "print(f'Id of a and b is {id(a)} , {id(b)}')\n",
    "\n",
    "\n",
    "#===============================================================================================================================\n",
    "#Answer:\n",
    "\n",
    "# \"Id of both variable is same\" because same value is assigned into the both variable\n",
    "# As per the Object reuasibily concept , Python preloaded the memory address of Interger in between(-5 to -256)the range\n",
    "# boolean value \"True\" which refers the integer value as 1 and python is having a preloaded members for integer value 1 and 0\n",
    "# hence the same members address allocated for the different variable since both varible having the same value "
   ]
  },
  {
   "cell_type": "code",
   "execution_count": 25,
   "id": "8cc61f5e",
   "metadata": {},
   "outputs": [
    {
     "name": "stdout",
     "output_type": "stream",
     "text": [
      "Enter the 1st value(True/False): True\n",
      "Enter the 2st value(True/False): True\n",
      "Addition of True and True is           = 2\n",
      "Substraction of True and True is       = 0\n",
      "Product of True and True is            = 1\n",
      "Float devision of True and True is     = 1.0\n",
      "Modules(Remainder) of True and True is = 0\n",
      "Floor division of True and True is     = 1\n",
      "Power of True and True is              = 1\n"
     ]
    }
   ],
   "source": [
    "# Q. Arithmetic Operations on boolean data\n",
    "# Take two different boolean values.\n",
    "# Store them in two different variables.\n",
    "# Do below operations on them:-\n",
    "# Find sum of both values\n",
    "# Find difference between them\n",
    "# Find the product of both.\n",
    "# Find value after dividing first value with second value\n",
    "# Find the remainder after dividing first value with second value\n",
    "# Find the quotient after dividing first value with second value\n",
    "# Find the result of first value to the power of second value.\n",
    "\n",
    "\n",
    "b1= input(\"Enter the 1st value(True/False): \")\n",
    "b2= input(\"Enter the 2st value(True/False): \")\n",
    "num1 = True if b1 == \"True\" else False\n",
    "num2 = True if b2 == \"True\" else False\n",
    "print(f'Addition of {num1} and {num2} is           = {num1+num2}')\n",
    "print(f'Substraction of {num1} and {num2} is       = {num1-num2}')\n",
    "print(f'Product of {num1} and {num2} is            = {num1*num2}')\n",
    "print(f'Float devision of {num1} and {num2} is     = {num1/num2}')\n",
    "print(f'Modules(Remainder) of {num1} and {num2} is = {num1%num2}')\n",
    "print(f'Floor division of {num1} and {num2} is     = {num1//num2}')\n",
    "print(f'Power of {num1} and {num2} is              = {num1**num2}')"
   ]
  },
  {
   "cell_type": "code",
   "execution_count": 28,
   "id": "b8c6131f",
   "metadata": {},
   "outputs": [
    {
     "name": "stdout",
     "output_type": "stream",
     "text": [
      "Enter the 1st value(True/False): True\n",
      "Enter the 2st value(True/False): Flase\n",
      "Greater than operator True > False     = True\n",
      "Less than operator True < False        = False\n",
      "Greater than or equal to True >= False = True\n",
      "Less than or equal to True <= False    = False\n"
     ]
    }
   ],
   "source": [
    "# Q. Comparison Operators on boolean values\n",
    "# Take two different boolean values.\n",
    "# Store them in two different variables.\n",
    "# Do below operations on them:-\n",
    "# Compare these two values with below operator:-\n",
    "# Greater than, '>'\n",
    "# less than, '<'\n",
    "# Greater than or equal to, '>='\n",
    "# Less than or equal to, '<='\n",
    "# Observe their output(return type should be boolean)\n",
    "\n",
    "#===============================================================================================================================\n",
    "#Answer:\n",
    "\n",
    "b1= input(\"Enter the 1st value(True/False): \")\n",
    "b2= input(\"Enter the 2st value(True/False): \")\n",
    "value1 = True if b1 == \"True\" else False\n",
    "value2 = True if b2 == \"True\" else False \n",
    "print(f\"Greater than operator {value1} > {value2}     = {value1>value2}\")\n",
    "print(f\"Less than operator {value1} < {value2}        = {value1<value2}\")\n",
    "print(f\"Greater than or equal to {value1} >= {value2} = {value1>=value2}\")\n",
    "print(f\"Less than or equal to {value1} <= {value2}    = {value1<=value2}\")"
   ]
  },
  {
   "cell_type": "code",
   "execution_count": null,
   "id": "ca2459d6",
   "metadata": {},
   "outputs": [],
   "source": [
    "# Q. Equality Operator\n",
    "# Take two different boolean values.\n",
    "# Store them in two different variables.\n",
    "# Equate them using equality operators (==, !=)\n",
    "# Observe the output(return type should be boolean)\n",
    "\n",
    "b1= input(\"Enter the 1st value(True/False): \")\n",
    "b2= input(\"Enter the 2st value(True/False): \")\n",
    "value1 = True if b1 == \"True\" else False\n",
    "value2 = True if b2 == \"True\" else False\n",
    "print(\"Equality operator output is\",value1==value2)\n",
    "print(\"Not Equal operator output is\",value1!=value2)"
   ]
  },
  {
   "cell_type": "code",
   "execution_count": 33,
   "id": "75509dda",
   "metadata": {},
   "outputs": [
    {
     "name": "stdout",
     "output_type": "stream",
     "text": [
      "#AND Operation\n",
      "True\n",
      "False\n",
      "False\n",
      "False\n",
      "#OR operation\n",
      "True\n",
      "True\n",
      "True\n",
      "False\n",
      "#NOT opeartion\n",
      "False\n",
      "True\n"
     ]
    }
   ],
   "source": [
    "# Q. Logical operators\n",
    "# Observe the output of below code\n",
    "# Cross check the output manually\n",
    "\n",
    "print(\"#AND Operation\")\n",
    "print(True and True)\n",
    "print(True and False)\n",
    "print(False and True)\n",
    "print(False and False)\n",
    "\n",
    "\n",
    "print(\"#OR operation\")\n",
    "\n",
    "print(True or True)\n",
    "print(True or False)\n",
    "print(False or True)\n",
    "print(False or False)\n",
    "\n",
    "print(\"#NOT opeartion\")\n",
    "print(not True)\n",
    "print(not False)"
   ]
  },
  {
   "cell_type": "code",
   "execution_count": 42,
   "id": "ccfdd30f",
   "metadata": {},
   "outputs": [
    {
     "name": "stdout",
     "output_type": "stream",
     "text": [
      "Bitwise AND Operation\n",
      "True\n",
      "False\n",
      "False\n",
      "False\n",
      "Bitwise OR operation\n",
      "True\n",
      "True\n",
      "True\n",
      "False\n",
      "Bitwise Not operation\n",
      "False\n",
      "True\n",
      "True\n",
      "False\n",
      "Bitwise negation(~)\n",
      "-2\n",
      "-1\n",
      "Bitwise left shift\n",
      "4\n",
      "0\n",
      "Bitwise Right shift\n",
      "0\n",
      "0\n"
     ]
    }
   ],
   "source": [
    "# Q. Bitwise Operators\n",
    "# Do below operations on the values provided below:-\n",
    "\n",
    "print(\"Bitwise AND Operation\")\n",
    "print(True & True)\n",
    "print(True & False)\n",
    "print(False & True)\n",
    "print(False & False)\n",
    "\n",
    "\n",
    "print(\"Bitwise OR operation\")\n",
    "\n",
    "print(True | True)\n",
    "print(True | False)\n",
    "print(False | True)\n",
    "print(False | False)\n",
    "\n",
    "print(\"Bitwise Not operation\")\n",
    "\n",
    "print(True ^ True)\n",
    "print(True ^ False)\n",
    "print(False ^ True)\n",
    "print(False ^ False)\n",
    "\n",
    "print(\"Bitwise negation(~)\")\n",
    "\n",
    "print(~ True)\n",
    "print(~ False)\n",
    "\n",
    "print(\"Bitwise left shift\")\n",
    "\n",
    "print(True<< 2)\n",
    "print(False <<2)\n",
    "\n",
    "print(\"Bitwise Right shift\")\n",
    "\n",
    "print(True>> 1)\n",
    "print(False>>1)\n"
   ]
  },
  {
   "cell_type": "code",
   "execution_count": 43,
   "id": "f97d2168",
   "metadata": {},
   "outputs": [
    {
     "name": "stdout",
     "output_type": "stream",
     "text": [
      "True\n",
      "False\n",
      "True\n",
      "False\n"
     ]
    }
   ],
   "source": [
    "# Q. What is the output of expression inside the print statement. Cross\n",
    "# check before running the program.\n",
    "\n",
    "\n",
    "a = True\n",
    "b = True\n",
    "print(a is b) #True\n",
    "\n",
    "print(a is not b) #False\n",
    "a = False\n",
    "b = False\n",
    "print(a is b)    #True\n",
    "print(a is not b) #False"
   ]
  },
  {
   "cell_type": "code",
   "execution_count": 44,
   "id": "b4159f8a",
   "metadata": {},
   "outputs": [
    {
     "name": "stdout",
     "output_type": "stream",
     "text": [
      "True\n",
      "True\n",
      "True\n",
      "True\n",
      "True\n"
     ]
    }
   ],
   "source": [
    "# Q. Membership operation\n",
    "# in, not in are two membership operators and it returns boolean value\n",
    "print(True in [10,10.20,10+20j,'Python', True])   #True\n",
    "print(False in (10,10.20,10+20j,'Python', False)) #True\n",
    "print(True in {1,2,3, True})                      #True\n",
    "print(True in {True:100, False:200, True:300})    #True\n",
    "print(False in {True:100, False:200, True:300})   #True"
   ]
  }
 ],
 "metadata": {
  "kernelspec": {
   "display_name": "Python 3 (ipykernel)",
   "language": "python",
   "name": "python3"
  },
  "language_info": {
   "codemirror_mode": {
    "name": "ipython",
    "version": 3
   },
   "file_extension": ".py",
   "mimetype": "text/x-python",
   "name": "python",
   "nbconvert_exporter": "python",
   "pygments_lexer": "ipython3",
   "version": "3.9.7"
  }
 },
 "nbformat": 4,
 "nbformat_minor": 5
}
