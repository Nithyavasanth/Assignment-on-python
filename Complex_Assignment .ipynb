{
 "cells": [
  {
   "cell_type": "code",
   "execution_count": 2,
   "id": "65ab9106",
   "metadata": {},
   "outputs": [
    {
     "name": "stdout",
     "output_type": "stream",
     "text": [
      "2851857501744\n",
      "<class 'complex'>\n"
     ]
    }
   ],
   "source": [
    "# Q. Declare a complex number and store it in a variable.\n",
    "# Check the type and print the id of the same.\n",
    "\n",
    "\n",
    "complexvalue = 10+1j\n",
    "print(id(complexvalue))\n",
    "print(type(complexvalue))"
   ]
  },
  {
   "cell_type": "code",
   "execution_count": 5,
   "id": "7b97a40a",
   "metadata": {},
   "outputs": [
    {
     "name": "stdout",
     "output_type": "stream",
     "text": [
      "Enter the 1st value: 10+5j\n",
      "Enter the 2st value: 2+4j\n",
      "Addition of (10+5j) and (2+4j) is           = (12+9j)\n",
      "Substraction of (10+5j) and (2+4j) is       = (8+1j)\n",
      "Product of (10+5j) and (2+4j) is            = 50j\n",
      "Float devision of (10+5j) and (2+4j) is     = (2-1.5j)\n",
      "Power of (10+5j) and (2+4j) is              = (-7.828267813430191-17.930224127550165j)\n"
     ]
    }
   ],
   "source": [
    "# Q. Arithmetic Operations on complex number\n",
    "# Take two different complex numbers.\n",
    "# Store them in two different variables.\n",
    "# Do below operations on them:-\n",
    "# Find sum of both numbers\n",
    "# Find difference between them\n",
    "# Find the product of both numbers.\n",
    "# Find value after dividing first num with second number\n",
    "# Find the result of the first num to the power of the second number.\n",
    "\n",
    "\n",
    "\n",
    "num1= complex(input(\"Enter the 1st value: \"))\n",
    "num2= complex(input(\"Enter the 2st value: \"))\n",
    "print(f'Addition of {num1} and {num2} is           = {num1+num2}')\n",
    "print(f'Substraction of {num1} and {num2} is       = {num1-num2}')\n",
    "print(f'Product of {num1} and {num2} is            = {num1*num2}')\n",
    "print(f'Float devision of {num1} and {num2} is     = {num1/num2}')\n",
    "print(f'Power of {num1} and {num2} is              = {num1**num2}')"
   ]
  },
  {
   "cell_type": "code",
   "execution_count": 7,
   "id": "05b3e8cc",
   "metadata": {},
   "outputs": [
    {
     "name": "stdout",
     "output_type": "stream",
     "text": [
      "Enter the 1st value: 10-2j\n",
      "Enter the 2st value: 10+2j\n",
      "Equality operator output is False\n",
      "Not Equal operator output is True\n"
     ]
    }
   ],
   "source": [
    "# Q. Equality Operator\n",
    "# Take two different complex numbers.\n",
    "# Store them in two different variables.\n",
    "# Equate them using equality operators (==, !=)\n",
    "# Observe the output(return type should be boolean)\n",
    "\n",
    "value1 = complex(input(\"Enter the 1st value: \"))\n",
    "value2 = complex(input(\"Enter the 2st value: \"))\n",
    "print(\"Equality operator output is\",value1==value2)\n",
    "print(\"Not Equal operator output is\",value1!=value2)"
   ]
  },
  {
   "cell_type": "code",
   "execution_count": 8,
   "id": "b5fb0089",
   "metadata": {},
   "outputs": [
    {
     "name": "stdout",
     "output_type": "stream",
     "text": [
      "AND operators\n",
      "(20+30j)\n",
      "0j\n",
      "0j\n",
      "0j\n",
      "OR operators\n",
      "(10+20j)\n",
      "(20+30j)\n",
      "(20+30j)\n",
      "0j\n",
      "NOT operators\n",
      "False\n",
      "True\n"
     ]
    }
   ],
   "source": [
    "# Q. Logical operators\n",
    "# Observe the output of below code\n",
    "# Cross check the output manually\n",
    "\n",
    "print(\"AND operators\")\n",
    "\n",
    "print(10+20j and 20+30j)\n",
    "print(0+0j and 20+30j)\n",
    "print(20+30j and 0+0j)\n",
    "print(0+0j and 0+0j)\n",
    "\n",
    "print(\"OR operators\")\n",
    "\n",
    "print(10+20j or 20+30j)\n",
    "print(0+0j or 20+30j)\n",
    "print(20+30j or 0+0j)\n",
    "print(0+0j or 0+0j)\n",
    "\n",
    "print(\"NOT operators\")\n",
    "\n",
    "print(not 10+20j)\n",
    "print(not 0+0j)\n"
   ]
  },
  {
   "cell_type": "code",
   "execution_count": 10,
   "id": "ab763ec4",
   "metadata": {},
   "outputs": [
    {
     "name": "stdout",
     "output_type": "stream",
     "text": [
      "False\n",
      "True\n"
     ]
    }
   ],
   "source": [
    "# Q. What is the output of the expression inside the print statement.\n",
    "# Cross check before running the program.\n",
    "a = 10+20j\n",
    "b = 10+20j\n",
    "print(a is b) #False\n",
    "print(a is not b) #True"
   ]
  },
  {
   "cell_type": "code",
   "execution_count": 12,
   "id": "89712015",
   "metadata": {},
   "outputs": [
    {
     "name": "stdout",
     "output_type": "stream",
     "text": [
      "True\n",
      "True\n",
      "True\n",
      "True\n",
      "True\n",
      "True\n"
     ]
    }
   ],
   "source": [
    "# Q. Membership operation\n",
    "# in, not in are two membership operators and it returns boolean value\n",
    "print('2.7' in 'Python2.7.8') #True\n",
    "print(10+20j in [10,10.20,10+20j,'Python']) #True\n",
    "print(10+20j in (10,10.20,10+20j,'Python')) #True\n",
    "print(30+40j in {1,20.30,30+40j}) #True\n",
    "print(30+40j in {1:100, 2.3:200, 30+40j:300}) #True\n",
    "print(10 in range(20)) #True"
   ]
  }
 ],
 "metadata": {
  "kernelspec": {
   "display_name": "Python 3 (ipykernel)",
   "language": "python",
   "name": "python3"
  },
  "language_info": {
   "codemirror_mode": {
    "name": "ipython",
    "version": 3
   },
   "file_extension": ".py",
   "mimetype": "text/x-python",
   "name": "python",
   "nbconvert_exporter": "python",
   "pygments_lexer": "ipython3",
   "version": "3.9.7"
  }
 },
 "nbformat": 4,
 "nbformat_minor": 5
}
