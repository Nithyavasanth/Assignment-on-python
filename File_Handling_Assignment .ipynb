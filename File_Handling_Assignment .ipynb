{
 "cells": [
  {
   "cell_type": "code",
   "execution_count": 5,
   "metadata": {},
   "outputs": [
    {
     "name": "stdout",
     "output_type": "stream",
     "text": [
      "1. The Raven \n",
      "\n",
      "by Edgar Allen Poe\n",
      "\n",
      "Deep into that darkness peering,\n",
      "\n",
      "Long I stood there, wondering, fearing,\n",
      "\n",
      "Doubting, dreaming dreams no mortals\n",
      "\n",
      "Ever dared to dream before;\n",
      "\n",
      "But the silence was unbroken,\n",
      "\n",
      "And the stillness gave no token,\n",
      "\n",
      "And the only word there spoken\n",
      "\n",
      "Was the whispered word, \"Lenore!\"\n",
      "\n",
      "This I whispered, and an echo\n",
      "\n",
      "Murmured back the word, \"Lenore!\"\n",
      "\n",
      "Merely this, and nothing more.\n"
     ]
    }
   ],
   "source": [
    "# Write a function in python to read the content from \n",
    "# a text file \"poem.txt\" line by line and display the same on screen.\n",
    "\n",
    "with open(\"poem.txt\",\"r\") as f:\n",
    "    content = f.read()\n",
    "    print(content)"
   ]
  },
  {
   "cell_type": "code",
   "execution_count": 2,
   "metadata": {},
   "outputs": [
    {
     "name": "stdout",
     "output_type": "stream",
     "text": [
      "['A boy is playing there\\n', 'There is a playgGround.\\n', 'An aeroplane is in the sky.\\n', 'The sky is pinke\\n', 'Alphabets and numbers are allowed in the password.']\n",
      "Count 3\n"
     ]
    }
   ],
   "source": [
    "# Write a function in python to count the number of lines \n",
    "# from a text file \"story.txt\" which is not starting with an alphabet \"T\". \n",
    "\n",
    "# Example: If the file \"story.txt\" contains the following lines: A boy is playing there.\n",
    "# There is a playground.\n",
    "# An aeroplane is in the sky.\n",
    "# The sky is pink.\n",
    "# Alphabets and numbers are allowed in the password.\n",
    "# The function should display the output as 3\n",
    "\n",
    "with open(\"Story.txt\",\"r\") as f:\n",
    "    content = f.readlines()\n",
    "    print(content)\n",
    "    c = 0\n",
    "    for i in content:\n",
    "        if i[0] != \"T\":\n",
    "            c += 1\n",
    "    print(\"Count\",c)\n",
    "            \n",
    "    \n",
    "    \n"
   ]
  },
  {
   "cell_type": "code",
   "execution_count": 3,
   "metadata": {},
   "outputs": [
    {
     "name": "stdout",
     "output_type": "stream",
     "text": [
      "India is the fastest-growing economy. India is looking for more investments around the globe. The whole world is looking at India as a great market. Most of the Indians can foresee the heights that India is capable of reaching.\n",
      "['India', 'is', 'the', 'fastest-growing', 'economy.', 'India', 'is', 'looking', 'for', 'more', 'investments', 'around', 'the', 'globe.', 'The', 'whole', 'world', 'is', 'looking', 'at', 'India', 'as', 'a', 'great', 'market.', 'Most', 'of', 'the', 'Indians', 'can', 'foresee', 'the', 'heights', 'that', 'India', 'is', 'capable', 'of', 'reaching.']\n",
      "39\n"
     ]
    }
   ],
   "source": [
    "# Write a function in Python to count and display the total number of words in a text file.\n",
    "with open(\"notes.txt\",\"r\") as f:\n",
    "    content = f.read()\n",
    "    print(content)\n",
    "    lst = content.split(\" \")\n",
    "    print(lst)\n",
    "    print(len(lst))\n"
   ]
  },
  {
   "cell_type": "code",
   "execution_count": 31,
   "metadata": {},
   "outputs": [
    {
     "name": "stdout",
     "output_type": "stream",
     "text": [
      "5\n"
     ]
    }
   ],
   "source": [
    "# Write a function in Python to read lines from a text file \"notes.txt\". \n",
    "# Your function should find and display the occurrence of the word \"the\".\n",
    "\n",
    "# For example: If the content of the file is:\n",
    "# \"India is the fastest-growing economy. India is looking for more investments around the globe. The whole world is looking at India as a great market. Most of the Indians can foresee the heights that India is capable of reaching.\"\n",
    "\n",
    "# The output should be 5.\n",
    "\n",
    "with open(\"notes.txt\",\"r\") as f:\n",
    "    c= 0\n",
    "    content = f.read()\n",
    "    lst = content.split(\" \")\n",
    "#     print(lst)\n",
    "    for i in lst:\n",
    "        if i.lower() == \"the\":\n",
    "            c += 1\n",
    "    print(c)"
   ]
  },
  {
   "cell_type": "code",
   "execution_count": 44,
   "metadata": {},
   "outputs": [
    {
     "name": "stdout",
     "output_type": "stream",
     "text": [
      "['India', 'fastest-growing', 'economy.', 'India', 'looking', 'more', 'investments', 'around', 'globe.', 'whole', 'world', 'looking', 'India', 'great', 'market.', 'Most', 'Indians', 'foresee', 'heights', 'that', 'India', 'capable', 'reaching.']\n"
     ]
    }
   ],
   "source": [
    "# Write a function display_words() in python to read lines from a text file \"story.txt\", \n",
    "# and display those words, which are less than 4 characters.\n",
    "with open(\"notes.txt\",\"r\") as f:\n",
    "    content = f.read()\n",
    "    lst = content.split(\" \")\n",
    "    print(list(i for i in lst if len(i)>=4))\n"
   ]
  },
  {
   "cell_type": "code",
   "execution_count": 5,
   "metadata": {},
   "outputs": [
    {
     "name": "stdout",
     "output_type": "stream",
     "text": [
      " Count of this is 6\n",
      " Count of these is 3\n"
     ]
    }
   ],
   "source": [
    "# Write a function in Python to count the words \"this\" and \"these\" present in a text file \"article.txt\". \n",
    "# [Note that the words \"this\" and \"these\" are complete words] \n",
    "with open(\"article.txt\",\"r\") as f:\n",
    "    c_this,c_these = 0,0\n",
    "    content = f.read()\n",
    "    lst = content.split(\" \")\n",
    "    for i in lst:\n",
    "        if i.lower() == \"this\":\n",
    "            c_this += 1\n",
    "        elif i.lower() == \"these\":\n",
    "            c_these += 1\n",
    "    print(f' Count of this is {c_this}\\n Count of these is {c_these}')\n",
    "    \n"
   ]
  },
  {
   "cell_type": "code",
   "execution_count": 64,
   "metadata": {},
   "outputs": [
    {
     "name": "stdout",
     "output_type": "stream",
     "text": [
      "Count of e is  2\n"
     ]
    }
   ],
   "source": [
    "# Write a function in Python to count words in a text file those are ending with alphabet \"e\"\n",
    "with open(\"Story.txt\",\"r\") as f:\n",
    "    content = f.readlines()\n",
    "    c = 0\n",
    "    for i in content:\n",
    "        if i[-2] == \"e\":\n",
    "            c += 1\n",
    "    print(\"Count of e is \",c)\n",
    "\n",
    "# l = \"Nithy ese\"\n",
    "# print(l[-1]== \"e\")"
   ]
  },
  {
   "cell_type": "code",
   "execution_count": 66,
   "metadata": {},
   "outputs": [
    {
     "name": "stdout",
     "output_type": "stream",
     "text": [
      "Upper case character of the string is 6\n"
     ]
    }
   ],
   "source": [
    "# Write a function in Python to count uppercase character in a text file.\n",
    "\n",
    "with open(\"Story.txt\",\"r\") as f:\n",
    "    U_count = 0\n",
    "    content = f.read()\n",
    "    for i in content:\n",
    "        if i.isupper():\n",
    "            U_count  += 1\n",
    "    print(f'Upper case character of the string is {U_count}')\n",
    "            "
   ]
  },
  {
   "cell_type": "code",
   "execution_count": 9,
   "metadata": {},
   "outputs": [
    {
     "name": "stdout",
     "output_type": "stream",
     "text": [
      "T#H#E# #W#O#R#L#D# #I#S# #R#O#U#N#D#\n"
     ]
    }
   ],
   "source": [
    "# A text file named \"matter.txt\" contains some text, which needs to be displayed such that \n",
    "# every next character is separated by a symbol \"#\". \n",
    "# Write a function definition for hash_display() in Python that would display \n",
    "# the entire content of the file matter.txt in the desired format.\n",
    "\n",
    "# Example :\n",
    "# If the file matter.txt has the following content stored in it :\n",
    "# THE WORLD IS ROUND\n",
    "\n",
    "# The function hash_display() should display the following content :\n",
    "# T#H#E# #W#O#R#L#D# #I#S# #R#O#U#N#D#\n",
    "\n",
    "def hash_display(a):\n",
    "    with open(a,\"r\") as f:\n",
    "        content = f.read()\n",
    "        c = \"#\"\n",
    "        s = \"\"\n",
    "        for i in content:\n",
    "            s +=  i + c\n",
    "    return s\n",
    "print(hash_display(\"matter.txt\"))        \n",
    "    "
   ]
  },
  {
   "cell_type": "code",
   "execution_count": 39,
   "metadata": {},
   "outputs": [
    {
     "name": "stdout",
     "output_type": "stream",
     "text": [
      "If Aditi has stored the following content in the file WORDS.TXT:\n",
      "    WELL, THIS IS A WORD BY ITSELF. YOU COULD STRETCH THIS TO BE A SENTENCE\n",
      "    The function ITOI() should display the following content:\n",
      "    WELL, THIS IS A WORD BY ITSELF. YOU COULD STRETCH THIS TO BE A SENTENCE\n"
     ]
    }
   ],
   "source": [
    "# Aditi has used a text editing software to type some text. After saving the article as WORDS.TXT, \n",
    "# she realised that she has wrongly typed alphabet J in place of alphabet I everywhere in the article.\n",
    "# Write a function definition for JTOI() in Python that would display the corrected version of entire content \n",
    "# of the file WORDS.TXT with all the alphabets \"J\" to be displayed as an alphabet \"I\" on screen.\n",
    "\n",
    "# Note: Assuming that WORD.TXT does not contain any J alphabet otherwise.\n",
    "\n",
    "# Example:\n",
    "# If Aditi has stored the following content in the file WORDS.TXT:\n",
    "# WELL, THJS JS A WORD BY JTSELF. YOU COULD STRETCH THJS TO BE A SENTENCE\n",
    "# The function JTOI() should display the following content:\n",
    "# WELL, THIS IS A WORD BY ITSELF. YOU COULD STRETCH THIS TO BE A SENTENCE\n",
    "def JTOI(a):\n",
    "    with open(a,\"w+\") as f:\n",
    "        f.write('''If Aditi has stored the following content in the file WORDS.TXT:\n",
    "    WELL, THJS JS A WORD BY JTSELF. YOU COULD STRETCH THJS TO BE A SENTENCE\n",
    "    The function JTOI() should display the following content:\n",
    "    WELL, THIS IS A WORD BY ITSELF. YOU COULD STRETCH THIS TO BE A SENTENCE''')\n",
    "        f.seek(0)\n",
    "        content = f.read()\n",
    "        with open(a,\"w+\") as f1:\n",
    "            for i in range(len(content)):\n",
    "                if content[i] == \"J\":\n",
    "                    f1.write(\"I\")\n",
    "                else:\n",
    "                    f1.write(content[i])\n",
    "            f1.seek(0)\n",
    "            print(f1.read())\n",
    "            \n",
    "JTOI(\"WORDS.TXT\")"
   ]
  },
  {
   "cell_type": "code",
   "execution_count": 45,
   "metadata": {},
   "outputs": [
    {
     "name": "stdout",
     "output_type": "stream",
     "text": [
      "13\n",
      "1\n"
     ]
    }
   ],
   "source": [
    "# Write a function AMCount() in Python, which should read each character of a text file STORY.TXT, \n",
    "# should count and display the occurance of alphabets A and M (including small cases a and m too).\n",
    "# For Example:\n",
    "# If the file content is as follows:\n",
    "# Updated information\n",
    "# As simplified by official websites.\n",
    "# The EUCount() function should display the output as:\n",
    "# A or a:4\n",
    "# M or m :2\n",
    "\n",
    "def AMCount(a):\n",
    "    with open(a,\"r+\") as f1:\n",
    "        content = f1.read()\n",
    "        print(content.upper().count(\"A\"))\n",
    "        print(content.upper().count(\"M\"))\n",
    "AMCount(\"STORY.TXT\")\n",
    "    "
   ]
  },
  {
   "cell_type": "code",
   "execution_count": 45,
   "metadata": {},
   "outputs": [
    {
     "name": "stdout",
     "output_type": "stream",
     "text": [
      "0\n"
     ]
    }
   ],
   "source": [
    "import pickle\n",
    "# A binary file \"Book.dat\" has structure [BookNo, Book_Name, Author, Price].\n",
    "# i. Write a user defined function createFile() to input data for a record and add to Book.dat.\n",
    "# ii. Write a function countRec(Author) in Python which accepts the Author name as parameter \n",
    "# and count and return number of books by the given Author are stored in the binary file \"Book.dat\"\n",
    "# def createFile(a):\n",
    "#     with open(a,\"wb\") as f1:\n",
    "#         for i in range(2):\n",
    "#             pickle.dump([int(input(\"Enter the Book No: \")),input(\"Enter the Book_Name: \"),input(\"Enter the Author\"),int(input(\"Enter the price: \"))],f1)\n",
    "# createFile(\"Book1.dat\")\n",
    "\n",
    "def countRec(Author):\n",
    "    with open(\"Book1.dat\", \"rb\") as f1:\n",
    "        Count = 0\n",
    "        try:\n",
    "            while True:\n",
    "                Content = pickle.load(f1)\n",
    "                if Author in Content:\n",
    "                    Count += 1\n",
    "\n",
    "        except Exception:  \n",
    "            print(Count)\n",
    "            f1.close()\n",
    "countRec(\"Nithya1\")\n",
    "# with open(\"Book1.dat\", \"rb\") as f1:\n",
    "#     Content = pickle.load(f1)\n",
    "#     print(Content)"
   ]
  },
  {
   "cell_type": "code",
   "execution_count": 155,
   "metadata": {},
   "outputs": [
    {
     "name": "stdout",
     "output_type": "stream",
     "text": [
      "[1, 'Nithya', '80']\n"
     ]
    }
   ],
   "source": [
    "# A binary file \"STUDENT.DAT\" has structure (admission_number, Name, Percentage). \n",
    "# Write a function count_rec() in Python that would read contents of the file \"STUDENT.DAT\" \n",
    "# and display the details of those students whose percentage is above 75. \n",
    "# Also display number of students scoring above 75%\n",
    "\n",
    "#\n",
    "\n",
    "def createFile(a,r):\n",
    "    with open(a,\"ab\") as f1:\n",
    "        rec = 1\n",
    "        while rec <= r:\n",
    "            pickle.dump([int(input(\"Enter the addmission Number: \")),input(\"Enter the addmission person Name: \"),input(\"Enter the percentage: \")],f1)\n",
    "            rec += 1\n",
    "def count_rec():\n",
    "    with open(\"Studentrecord.dat\",\"rb\") as f2:\n",
    "        try:\n",
    "            while True:\n",
    "                f_content = pickle.load(f2)\n",
    "                if int(f_content[2]) >= 75:\n",
    "                    print(f_content)     \n",
    "        except Exception:         \n",
    "            f2.close()\n",
    "# record = int(input(\"Enter the Number of Records which you wanted to Enter\"))\n",
    "# if record != 0:\n",
    "#     createFile(\"Studentrecord.dat\",record)\n",
    "# else:\n",
    "#     print(\"Enter the valid Number(>1)\")\n",
    "count_rec()\n",
    "            \n",
    "\n"
   ]
  },
  {
   "cell_type": "code",
   "execution_count": 51,
   "metadata": {},
   "outputs": [
    {
     "name": "stdout",
     "output_type": "stream",
     "text": [
      "To add records to the dictionary\n",
      "Enter the employee code: 4\n",
      "Enter the employee Name Nithya\n",
      "Enter the Salary 40000\n",
      "To display the salary of more than or equal to 30000\n",
      "{1: {'empcode': 1000, 'name': 'Nithya', 'salary': 30000}, 2: {'empcode': 2000, 'name': 'Vasanth', 'salary': 60000}, 3: {'empcode': 3000, 'name': 'Gopi', 'salary': 2000}}\n",
      "{'empcode': 1000, 'name': 'Nithya', 'salary': 30000}\n",
      "{'empcode': 2000, 'name': 'Vasanth', 'salary': 60000}\n",
      "{4: {'empcode': 4, 'name': 'Nithya', 'salary': 40000}}\n",
      "{'empcode': 4, 'name': 'Nithya', 'salary': 40000}\n"
     ]
    }
   ],
   "source": [
    "# Given a binary file employee.dat, created using dictionary object having keys: (empcode, name, and salary)\n",
    "\n",
    "# Write a python function that add one more record at the end of file.\n",
    "# Write a python function that display all employee records whose salary is more that 30000\n",
    "# def fun(a):\n",
    "\n",
    "\n",
    "\n",
    "import pickle\n",
    "def createFile(a):\n",
    "    \n",
    "    with open(a,\"wb\") as f1:\n",
    "        pickle.dump({1:{\"empcode\":1000, \"name\":\"Nithya\", \"salary\": 30000},\n",
    "                     2:{\"empcode\":2000, \"name\":\"Vasanth\", \"salary\": 60000},\n",
    "                     3:{\"empcode\":3000, \"name\":\"Gopi\", \"salary\": 2000}},f1)\n",
    "def addrecord():\n",
    "    with open(\"employee.dat\",\"ab\") as f2:\n",
    "        pickle.dump({4:{\"empcode\":int(input(\"Enter the employee code: \")), \"name\":input(\"Enter the employee Name \"), \"salary\": int(input(\"Enter the Salary \"))}},f2)\n",
    "def display():\n",
    "    with open(\"employee.dat\",\"rb\") as f2:\n",
    "        try:\n",
    "            while True:\n",
    "                f_content = pickle.load(f2)\n",
    "                print(f_content)\n",
    "                for i in f_content.keys():\n",
    "                    if f_content[i][\"salary\"] >= 30000:\n",
    "                        print(f_content[i])\n",
    "        except Exception:\n",
    "            f2.close()\n",
    "createFile(\"employee.dat\")         \n",
    "print(\"To add records to the dictionary\")\n",
    "addrecord()\n",
    "print(\"To display the salary of more than or equal to 30000\")\n",
    "display()"
   ]
  },
  {
   "cell_type": "code",
   "execution_count": 157,
   "metadata": {},
   "outputs": [
    {
     "name": "stdout",
     "output_type": "stream",
     "text": [
      "Enter the Number of Records which you wanted to Enter into the file : 4\n",
      "[1005, 'Nithya', 'a', 40000]\n",
      "[1005, 'vgy', 'c', 6000]\n"
     ]
    }
   ],
   "source": [
    "# Write a function to search and display details of student whose rollno is '1005' \n",
    "# from the binary file student.dat having structure [rollno, name, class and fees].\n",
    "\n",
    "\n",
    "# def createFile(a):\n",
    "#     with open(a,\"ab\") as f1:\n",
    "#         rec = 1\n",
    "#         while rec <= record:\n",
    "#             pickle.dump([int(input(\"Enter the Roll Number: \")),input(\"Enter the Name: \"),input(\"Enter the Class \"),int(input(\"Enter the Fees: \"))],f1)\n",
    "#             rec += 1\n",
    "\n",
    "def display():\n",
    "    with open(\"student1.dat\",\"rb\") as f2:\n",
    "        try:\n",
    "            while True:\n",
    "                f_content = pickle.load(f2)\n",
    "                if int(f_content[0]) == 1005:\n",
    "                    print(f_content)\n",
    "        except Exception:\n",
    "            f2.close()\n",
    "record = int(input(\"Enter the Number of Records which you wanted to Enter into the file : \"))\n",
    "# if record != 0:\n",
    "#     createFile(\"student1.dat\")\n",
    "# else:\n",
    "#     print(\"Enter the valid Number(>1)\")\n",
    "display()"
   ]
  },
  {
   "cell_type": "code",
   "execution_count": 150,
   "metadata": {},
   "outputs": [
    {
     "name": "stdout",
     "output_type": "stream",
     "text": [
      "Enter the Number of Records which you wanted to Enter: 4\n",
      "Total 90\n"
     ]
    }
   ],
   "source": [
    "# A binary file school.dat has structure(rollno, name, class, fees)\n",
    "\n",
    "# Write a definition for function total_fees( ) that reads each object of file and calculate \n",
    "# the total fees of students and display the same.\n",
    "\n",
    "\n",
    "# def createFile(a):\n",
    "#     with open(a,\"ab\") as f1:\n",
    "#         rec = 1\n",
    "#         while rec <= record:\n",
    "#             pickle.dump((int(input(\"Enter the Roll Number: \")),input(\"Enter the Name: \"),input(\"Enter the Class \"),int(input(\"Enter the Fees: \"))),f1)\n",
    "#             rec += 1\n",
    "#     return rec \n",
    "def totalfees():\n",
    "    with open(\"schooldata.dat\",\"rb\") as f2:\n",
    "        try:\n",
    "            Tot = 0\n",
    "            while True:\n",
    "                f_content = pickle.load(f2)\n",
    "                Tot += f_content[3]      \n",
    "        except Exception:\n",
    "            print(\"Total\",Tot)\n",
    "            f2.close()\n",
    "record = int(input(\"Enter the Number of Records which you wanted to Enter: \"))\n",
    "# if record != 0:\n",
    "#     createFile(\"schooldata.dat\")\n",
    "# else:\n",
    "#     print(\"Enter the valid Number(>1)\")\n",
    "totalfees()\n",
    "    \n",
    "    \n",
    "\n"
   ]
  },
  {
   "cell_type": "code",
   "execution_count": 132,
   "metadata": {},
   "outputs": [
    {
     "name": "stdout",
     "output_type": "stream",
     "text": [
      "Enter the Number of Records which you wanted to Insert into the File: 4\n",
      "[1, 'abhi', 'India', 40]\n",
      "[3, 'akila', 'pak', 40]\n",
      "To print the all users records who's name start with A  None\n",
      "Enter the country Name: India\n",
      "[1, 'abhi', 'India', 40]\n",
      "[2, 'Nith', 'India', 50]\n",
      "[4, 'vasanth', 'India', 50]\n",
      "None\n"
     ]
    },
    {
     "ename": "KeyboardInterrupt",
     "evalue": "Interrupted by user",
     "output_type": "error",
     "traceback": [
      "\u001b[1;31m---------------------------------------------------------------------------\u001b[0m",
      "\u001b[1;31mKeyboardInterrupt\u001b[0m                         Traceback (most recent call last)",
      "\u001b[1;32mC:\\Users\\NITHYA~1\\AppData\\Local\\Temp/ipykernel_4164/152863499.py\u001b[0m in \u001b[0;36m<module>\u001b[1;34m\u001b[0m\n\u001b[0;32m     45\u001b[0m \u001b[0mprint\u001b[0m\u001b[1;33m(\u001b[0m\u001b[1;34m\"To print the all users records who's name start with A \"\u001b[0m\u001b[1;33m,\u001b[0m\u001b[0mallrecords\u001b[0m\u001b[1;33m(\u001b[0m\u001b[1;33m)\u001b[0m\u001b[1;33m)\u001b[0m\u001b[1;33m\u001b[0m\u001b[1;33m\u001b[0m\u001b[0m\n\u001b[0;32m     46\u001b[0m \u001b[0mprint\u001b[0m\u001b[1;33m(\u001b[0m\u001b[0mCountofCountry\u001b[0m\u001b[1;33m(\u001b[0m\u001b[0minput\u001b[0m\u001b[1;33m(\u001b[0m\u001b[1;34m\"Enter the country Name: \"\u001b[0m\u001b[1;33m)\u001b[0m\u001b[1;33m)\u001b[0m\u001b[1;33m)\u001b[0m\u001b[1;33m\u001b[0m\u001b[1;33m\u001b[0m\u001b[0m\n\u001b[1;32m---> 47\u001b[1;33m \u001b[0mprint\u001b[0m\u001b[1;33m(\u001b[0m\u001b[1;34m\"Please add one more record\"\u001b[0m\u001b[1;33m,\u001b[0m\u001b[0mcreateFile\u001b[0m\u001b[1;33m(\u001b[0m\u001b[1;34m\"players.dat\"\u001b[0m\u001b[1;33m,\u001b[0m\u001b[0mint\u001b[0m\u001b[1;33m(\u001b[0m\u001b[0minput\u001b[0m\u001b[1;33m(\u001b[0m\u001b[1;34m\"Enter the Numbers of records to be added additionally\"\u001b[0m\u001b[1;33m)\u001b[0m\u001b[1;33m)\u001b[0m\u001b[1;33m)\u001b[0m\u001b[1;33m)\u001b[0m\u001b[1;33m\u001b[0m\u001b[1;33m\u001b[0m\u001b[0m\n\u001b[0m",
      "\u001b[1;32m~\\anaconda3\\lib\\site-packages\\ipykernel\\kernelbase.py\u001b[0m in \u001b[0;36mraw_input\u001b[1;34m(self, prompt)\u001b[0m\n\u001b[0;32m   1004\u001b[0m                 \u001b[1;34m\"raw_input was called, but this frontend does not support input requests.\"\u001b[0m\u001b[1;33m\u001b[0m\u001b[1;33m\u001b[0m\u001b[0m\n\u001b[0;32m   1005\u001b[0m             )\n\u001b[1;32m-> 1006\u001b[1;33m         return self._input_request(\n\u001b[0m\u001b[0;32m   1007\u001b[0m             \u001b[0mstr\u001b[0m\u001b[1;33m(\u001b[0m\u001b[0mprompt\u001b[0m\u001b[1;33m)\u001b[0m\u001b[1;33m,\u001b[0m\u001b[1;33m\u001b[0m\u001b[1;33m\u001b[0m\u001b[0m\n\u001b[0;32m   1008\u001b[0m             \u001b[0mself\u001b[0m\u001b[1;33m.\u001b[0m\u001b[0m_parent_ident\u001b[0m\u001b[1;33m[\u001b[0m\u001b[1;34m\"shell\"\u001b[0m\u001b[1;33m]\u001b[0m\u001b[1;33m,\u001b[0m\u001b[1;33m\u001b[0m\u001b[1;33m\u001b[0m\u001b[0m\n",
      "\u001b[1;32m~\\anaconda3\\lib\\site-packages\\ipykernel\\kernelbase.py\u001b[0m in \u001b[0;36m_input_request\u001b[1;34m(self, prompt, ident, parent, password)\u001b[0m\n\u001b[0;32m   1049\u001b[0m             \u001b[1;32mexcept\u001b[0m \u001b[0mKeyboardInterrupt\u001b[0m\u001b[1;33m:\u001b[0m\u001b[1;33m\u001b[0m\u001b[1;33m\u001b[0m\u001b[0m\n\u001b[0;32m   1050\u001b[0m                 \u001b[1;31m# re-raise KeyboardInterrupt, to truncate traceback\u001b[0m\u001b[1;33m\u001b[0m\u001b[1;33m\u001b[0m\u001b[0m\n\u001b[1;32m-> 1051\u001b[1;33m                 \u001b[1;32mraise\u001b[0m \u001b[0mKeyboardInterrupt\u001b[0m\u001b[1;33m(\u001b[0m\u001b[1;34m\"Interrupted by user\"\u001b[0m\u001b[1;33m)\u001b[0m \u001b[1;32mfrom\u001b[0m \u001b[1;32mNone\u001b[0m\u001b[1;33m\u001b[0m\u001b[1;33m\u001b[0m\u001b[0m\n\u001b[0m\u001b[0;32m   1052\u001b[0m             \u001b[1;32mexcept\u001b[0m \u001b[0mException\u001b[0m\u001b[1;33m:\u001b[0m\u001b[1;33m\u001b[0m\u001b[1;33m\u001b[0m\u001b[0m\n\u001b[0;32m   1053\u001b[0m                 \u001b[0mself\u001b[0m\u001b[1;33m.\u001b[0m\u001b[0mlog\u001b[0m\u001b[1;33m.\u001b[0m\u001b[0mwarning\u001b[0m\u001b[1;33m(\u001b[0m\u001b[1;34m\"Invalid Message:\"\u001b[0m\u001b[1;33m,\u001b[0m \u001b[0mexc_info\u001b[0m\u001b[1;33m=\u001b[0m\u001b[1;32mTrue\u001b[0m\u001b[1;33m)\u001b[0m\u001b[1;33m\u001b[0m\u001b[1;33m\u001b[0m\u001b[0m\n",
      "\u001b[1;31mKeyboardInterrupt\u001b[0m: Interrupted by user"
     ]
    }
   ],
   "source": [
    "# A binary file players.dat, containing records of following list format: [code, name, country and total runs]\n",
    "\n",
    "# 1. Write a python function that display all records where player name starts from 'A'\n",
    "# 2. Write a python function that accept country as an argument and count and display \n",
    "#     the number of players of that country.\n",
    "# 3. Write a python function that add one record at the end of file.\n",
    "\n",
    "\n",
    "def createFile(a,record):\n",
    "    with open(a,\"ab\") as f1:\n",
    "        rec = 1\n",
    "        while rec <= record:\n",
    "            pickle.dump([int(input(\"Enter the code \")),input(\"Enter the Name: \"),input(\"Enter the Country \"),int(input(\"Enter the total runs:\"))],f1)\n",
    "            rec += 1\n",
    "\n",
    "def allrecords():\n",
    "    with open(\"players.dat\",\"rb\") as f2:\n",
    "        try:\n",
    "            while True:\n",
    "                f_content = pickle.load(f2)\n",
    "                if((f_content[1][0]).upper() == \"A\"):\n",
    "                    print(f_content)            \n",
    "        except Exception as e:\n",
    "            f2.close()\n",
    "def CountofCountry(country):\n",
    "    with open(\"players.dat\",\"rb\") as f3:\n",
    "        try:\n",
    "            while True:\n",
    "                f_content = pickle.load(f3)\n",
    "                if(f_content[2].lower() == country.lower()):\n",
    "                    print(f_content)            \n",
    "        except Exception as e:\n",
    "            f3.close()\n",
    "    \n",
    "def addrecord(lst):\n",
    "    with open(\"players.dat\",\"ab\") as f4:\n",
    "        pickle.dump(lst,f4)\n",
    "\n",
    "    \n",
    "record = int(input(\"Enter the Number of Records which you wanted to Insert into the File: \"))\n",
    "# if record != 0:\n",
    "#     createFile(\"players.dat\",record)    \n",
    "# else:\n",
    "#     print(\"Enter the valid Number(>1)\")\n",
    "print(\"To print the all users records who's name start with A \")\n",
    "allrecords()\n",
    "CountofCountry(input(\"Enter the country Name: \"))\n",
    "print(\"Please add one more record\")\n",
    "createFile(\"players.dat\",int(input(\"Enter the Numbers of records to be added additionally\")))\n"
   ]
  },
  {
   "cell_type": "code",
   "execution_count": 136,
   "metadata": {
    "ExecuteTime": {
     "end_time": "2021-05-29T10:46:59.140338Z",
     "start_time": "2021-05-29T10:46:59.135100Z"
    }
   },
   "outputs": [
    {
     "name": "stdout",
     "output_type": "stream",
     "text": [
      "Enter the Number of Records which you wanted to Insert into the File: 2\n",
      "Enter the Game Name: Basket Ball\n",
      "Enter the Participants Nithya\n",
      "Enter the Game Name: hokey\n",
      "Enter the Participants Vasanth\n",
      "['Basket Ball', 'Nithya']\n"
     ]
    }
   ],
   "source": [
    "# Given a binary file game.dat, containing records of following list format: [game_name, participants]\n",
    "\n",
    "# Write a function in Python that would read contents from the file game.dat and \n",
    "# creates a file named basket.dat copying only those records from game.dat where the game name is \"Basket Ball\"\n",
    "\n",
    "def createFile(a,r):\n",
    "    with open(a,\"ab\") as f1:\n",
    "        rec = 1\n",
    "        while rec <= r:\n",
    "            pickle.dump([input(\"Enter the Game Name: \"),input(\"Enter the Participants \")],f1)\n",
    "            rec += 1\n",
    "\n",
    "def copycontent(a):\n",
    "    with open(a,\"rb\") as f2:\n",
    "        try:\n",
    "            while True:\n",
    "                f_content = pickle.load(f2)\n",
    "                if f_content[0] == \"Basket Ball\":\n",
    "                    with open(\"basket.dat\",\"ab\") as f3:\n",
    "                        pickle.dump(f_content,f3)\n",
    "        except Exception:\n",
    "            f2.close()\n",
    "# def display(a):\n",
    "#     with open(a,\"rb\") as f2:\n",
    "#         try:\n",
    "#             while True:\n",
    "#                 f_content = pickle.load(f2)\n",
    "#                 print(f_content)\n",
    "#         except Exception:\n",
    "#             f2.close()\n",
    "            \n",
    "record = int(input(\"Enter the Number of Records which you wanted to Insert into the File: \"))\n",
    "if record != 0:\n",
    "    createFile(\"game.dat\",record)    \n",
    "else:\n",
    "    print(\"Enter the valid Number(>1)\")\n",
    "copycontent(\"game.dat\")\n",
    "# display(\"basket.dat\")\n"
   ]
  }
 ],
 "metadata": {
  "kernelspec": {
   "display_name": "Python 3 (ipykernel)",
   "language": "python",
   "name": "python3"
  },
  "language_info": {
   "codemirror_mode": {
    "name": "ipython",
    "version": 3
   },
   "file_extension": ".py",
   "mimetype": "text/x-python",
   "name": "python",
   "nbconvert_exporter": "python",
   "pygments_lexer": "ipython3",
   "version": "3.9.7"
  }
 },
 "nbformat": 4,
 "nbformat_minor": 2
}
