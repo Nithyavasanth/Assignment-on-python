{
 "cells": [
  {
   "cell_type": "code",
   "execution_count": 3,
   "id": "d261b6e7",
   "metadata": {},
   "outputs": [
    {
     "name": "stdout",
     "output_type": "stream",
     "text": [
      "2562196138576\n",
      "<class 'int'>\n"
     ]
    }
   ],
   "source": [
    "#Q. Declare an int value and store it in a variable.\n",
    "#Check the type and print the id of the same.\n",
    "\n",
    "intValue = 10\n",
    "print(id(intValue))\n",
    "print(type(intValue))"
   ]
  },
  {
   "cell_type": "code",
   "execution_count": 3,
   "id": "fa4378e3",
   "metadata": {},
   "outputs": [
    {
     "name": "stdout",
     "output_type": "stream",
     "text": [
      "id of a and b is 3031676578384 , 3031676578384\n"
     ]
    }
   ],
   "source": [
    "#Q. Take one int value between 0 - 256.\n",
    "#Assign it to two different variables.\n",
    "#Check the id of both the variables. It should come the same. Check why?\n",
    "\n",
    "a = 10 \n",
    "b = a\n",
    "print(f'Id of a and b is {id(a)} , {id(b)}')\n",
    "\n",
    "\n",
    "#===============================================================================================================================\n",
    "#Answer:\n",
    "\n",
    "# \"Id of both variable is same\" because same value is assigned into the both variable\n",
    "# As per the Object reuasibily concept , Python preloaded the memory address of Interger in between(-5 to -256)the range \n",
    "# hence the same members address allocated for the different variable since both varible having the same value "
   ]
  },
  {
   "cell_type": "code",
   "execution_count": 9,
   "id": "2f446c1f",
   "metadata": {},
   "outputs": [
    {
     "name": "stdout",
     "output_type": "stream",
     "text": [
      "Id of a and b is 3031788486448 , 3031788486096\n"
     ]
    }
   ],
   "source": [
    "#Q.Take one int value either less than -5 or greater than 256.\n",
    "#Assign it to two different variables.\n",
    "#Check the id of both the variables. It should come different.Check why?\n",
    "\n",
    "val1 = -6\n",
    "val2 = a\n",
    "print(f'Id of a and b is {id(val1)} , {id(val2)}')\n",
    "\n",
    "\n",
    "\n",
    "#===============================================================================================================================\n",
    "#Answer:\n",
    "\n",
    "# \"Id of both variable is different\" \n",
    "# As per the Object reuasibily concept , Python preloaded the memory address of Interger in between(-5 to -256)the range \n",
    "# Any integer value outside of this range ,python will allocate the different memory address\n",
    "# hence the different memory address allocated eventhough both varible having the same value."
   ]
  },
  {
   "cell_type": "code",
   "execution_count": 15,
   "id": "18ad34fc",
   "metadata": {},
   "outputs": [
    {
     "name": "stdout",
     "output_type": "stream",
     "text": [
      "Enter the 1st value: 45\n",
      "Enter the 2st value: 56\n",
      "Addition of 45 and 56 is           = 101\n",
      "Substraction of 45 and 56 is =     = -11\n",
      "Product of 45 and 56 is            = 2520\n",
      "Float devision of 45 and 56 is     = 0.8035714285714286\n",
      "Modules(Remainder) of 45 and 56 is = 45\n",
      "Floor division of 45 and 56 is     = 0\n",
      "Power of 45 and 56 is              = 380102539714517509119234755043630811768952009743379517880956797171165817417204380035400390625\n"
     ]
    }
   ],
   "source": [
    "# Q. Arithmetic Operations on integers\n",
    "# Take two different integer values.\n",
    "# Store them in two different variables.\n",
    "# Do below operations on them:-\n",
    "# Find sum of both numbers\n",
    "# Find difference between them\n",
    "# Find the product of both numbers.\n",
    "# Find value after dividing first num with second number\n",
    "# Find the remainder after dividing first number with second number\n",
    "# Find the quotient after dividing first number with second number\n",
    "# Find the result of the first num to the power of the second number.\n",
    "\n",
    "#===============================================================================================================================\n",
    "#Answer:\n",
    "\n",
    "num1= int(input(\"Enter the 1st value: \"))\n",
    "num2= int(input(\"Enter the 2st value: \"))\n",
    "print(f'Addition of {num1} and {num2} is           = {num1+num2}')\n",
    "print(f'Substraction of {num1} and {num2} is       = {num1-num2}')\n",
    "print(f'Product of {num1} and {num2} is            = {num1*num2}')\n",
    "print(f'Float devision of {num1} and {num2} is     = {num1/num2}')\n",
    "print(f'Modules(Remainder) of {num1} and {num2} is = {num1%num2}')\n",
    "print(f'Floor division of {num1} and {num2} is     = {num1//num2}')\n",
    "print(f'Power of {num1} and {num2} is              = {num1**num2}')"
   ]
  },
  {
   "cell_type": "code",
   "execution_count": 2,
   "id": "386efb99",
   "metadata": {},
   "outputs": [
    {
     "name": "stdout",
     "output_type": "stream",
     "text": [
      "Enter the 1st value: 30\n",
      "Enter the 2st value: 30\n",
      "Equality operator output is True\n",
      "Not Equal operator output is False\n"
     ]
    }
   ],
   "source": [
    "# Q. Equality Operator\n",
    "# Take two different integer values.\n",
    "# Store them in two different variables.\n",
    "# Equate them using equality operators (==, !=)\n",
    "# Observe the output(return type should be boolean)\n",
    "#===============================================================================================================================\n",
    "#Answer:\n",
    "\n",
    "value1 = int(input(\"Enter the 1st value: \"))\n",
    "value2 = int(input(\"Enter the 2st value: \"))\n",
    "print(\"Equality operator output is\",value1==value2)\n",
    "print(\"Not Equal operator output is\",value1!=value2)\n"
   ]
  },
  {
   "cell_type": "code",
   "execution_count": 8,
   "id": "cb34c39b",
   "metadata": {},
   "outputs": [
    {
     "name": "stdout",
     "output_type": "stream",
     "text": [
      "Enter the 1st value: 20\n",
      "Enter the 2st value: 30\n",
      "Greater than operator 20 > 30 = False\n",
      "Less than operator 20 < 30 = True\n",
      "Greater than or equal to 20 >= 30 = False\n",
      "Less than or equal to 20 <= 30 = True\n"
     ]
    }
   ],
   "source": [
    "# Q. Comparison Operators on integers\n",
    "# Take two different integer values.\n",
    "# Store them in two different variables.\n",
    "# Do below operations on them:-\n",
    "# Compare se two numbers with below operator:-\n",
    "# Greater than, '>'\n",
    "# Smaller than, '<'\n",
    "# Greater than or equal to, '>='\n",
    "# Less than or equal to, '<='\n",
    "# Observe their output(return type should be boolean)\n",
    "\n",
    "#===============================================================================================================================\n",
    "#Answer:\n",
    "\n",
    "value1 = int(input(\"Enter the 1st value: \"))\n",
    "value2 = int(input(\"Enter the 2st value: \"))\n",
    "print(f\"Greater than operator {value1} > {value2}     = {value1>value2}\")\n",
    "print(f\"Less than operator {value1} < {value2}        = {value1<value2}\")\n",
    "print(f\"Greater than or equal to {value1} >= {value2} = {value1>=value2}\")\n",
    "print(f\"Less than or equal to {value1} <= {value2}    = {value1<=value2}\")\n",
    "\n"
   ]
  },
  {
   "cell_type": "code",
   "execution_count": 21,
   "id": "9fdccd47",
   "metadata": {},
   "outputs": [
    {
     "name": "stdout",
     "output_type": "stream",
     "text": [
      "AND opeartor - output of 10 and 20 is = 20\n",
      "AND opeartor - output of 0 and 20 is  = 0\n",
      "AND opeartor - output of 10 and 0 is  = 0\n",
      "AND opeartor - output of 0 and 0 is   = 0\n",
      "OR opeartor  - output of 10 and 20 is = 10\n",
      "OR opeartor  - output of 0 and 20 is  = 20\n",
      "OR opeartor  - output of 10 and 0 is  = 10\n",
      "OR opeartor  - output of 0 and 0 is   = 0\n",
      "NOT opeartor - output of 10           = False\n",
      "Not opeartor - output of 0            = True\n"
     ]
    }
   ],
   "source": [
    "# Q. Logical operators\n",
    "# Observe the output of below code\n",
    "\n",
    "#===============================================================================================================================\n",
    "#Answer:\n",
    "\n",
    "print(f'AND opeartor - output of {10} and {20} is = {10 and 20}')\n",
    "print(f'AND opeartor - output of {0} and {20} is  = {0 and 20}')\n",
    "print(f'AND opeartor - output of {10} and {0} is  = {10 and 0}')\n",
    "print(f'AND opeartor - output of {0} and {0} is   = {0 and 0}')\n",
    "\n",
    "print(f'OR opeartor  - output of {10} and {20} is = {10 or 20}')\n",
    "print(f'OR opeartor  - output of {0} and {20} is  = {0 or 20}')\n",
    "print(f'OR opeartor  - output of {10} and {0} is  = {10 or 0}')\n",
    "print(f'OR opeartor  - output of {0} and {0} is   = {0 or 0}')\n",
    "\n",
    "print(f'NOT opeartor - output of {10}           = {not 10}')\n",
    "print(f'NOT opeartor - output of {0}            = {not 0}')\n"
   ]
  },
  {
   "cell_type": "code",
   "execution_count": 30,
   "id": "c2ddbbc5",
   "metadata": {},
   "outputs": [
    {
     "name": "stdout",
     "output_type": "stream",
     "text": [
      "Bitwise and(&) = 0\n",
      "Bitwise or(|)  = 30\n",
      "Bitwise(^)     = 30\n",
      "Bitwise negation(~) = -11\n",
      "Bitwise leftshift   = 40\n",
      "Bitwise rightshift  = 2\n"
     ]
    }
   ],
   "source": [
    "# Q. Bitwise Operators\n",
    "# Do below operations on the values provided below:-\n",
    "\n",
    "#===============================================================================================================================\n",
    "#Answer:\n",
    "\n",
    "print(f'Bitwise and(&) = {10&20}')\n",
    "print(f'Bitwise or(|)  = {10|20}')\n",
    "print(f'Bitwise(^)     = {10^20}')\n",
    "print(f'Bitwise negation(~) = {~10}')\n",
    "print(f'Bitwise leftshift   = {10<<2}')\n",
    "print(f'Bitwise rightshift  = {10>>2}')\n",
    "\n"
   ]
  },
  {
   "cell_type": "code",
   "execution_count": 31,
   "id": "d6d93d9b",
   "metadata": {},
   "outputs": [
    {
     "name": "stdout",
     "output_type": "stream",
     "text": [
      "True\n",
      "False\n",
      "False\n",
      "True\n"
     ]
    }
   ],
   "source": [
    "# Q. What is the output of expression inside print statement. Cross check\n",
    "# before running the program.\n",
    "\n",
    "# a = 10\n",
    "# b = 10\n",
    "# print(a is b) #True or False?\n",
    "# print(a is not b) #True or False?\n",
    "# a = 1000\n",
    "# b = 1000\n",
    "# print(a is b) #True or False?\n",
    "# print(a is not b) #True or False?\n",
    "\n",
    "#===============================================================================================================================\n",
    "#Answer:\n",
    "\n",
    "a = 10\n",
    "b = 10\n",
    "print(a is b) #True \n",
    "print(a is not b) #False\n",
    "\n",
    "a = 1000\n",
    "b = 1000\n",
    "print(a is b)   # False\n",
    "print(a is not b) #True\n"
   ]
  },
  {
   "cell_type": "code",
   "execution_count": 42,
   "id": "e9e06d9c",
   "metadata": {},
   "outputs": [
    {
     "name": "stdout",
     "output_type": "stream",
     "text": [
      "20\n",
      "20\n",
      "20\n",
      "20\n",
      "20\n",
      "20\n",
      "20\n"
     ]
    }
   ],
   "source": [
    "# What is the output of expression inside print statement. Cross check\n",
    "# before running the program.\n",
    "print(10+(10*32)//2**5&20+(~(-10))<<2)\n",
    "print(10+320//2**5&20+11<<2) #brackets\n",
    "print(10+320//32&20+11<<2)  #exponents\n",
    "print(10+10&20+11<<2)       #floor division\n",
    "print(20&31<<2)             #Addition\n",
    "print(20&31*4)              #shift \n",
    "print(20&124)\n",
    "#output is 20\n",
    "    \n",
    "    \n"
   ]
  },
  {
   "cell_type": "code",
   "execution_count": 45,
   "id": "cffd0d2d",
   "metadata": {},
   "outputs": [
    {
     "name": "stdout",
     "output_type": "stream",
     "text": [
      "True\n",
      "True\n",
      "True\n",
      "True\n",
      "True\n",
      "True\n"
     ]
    }
   ],
   "source": [
    "# Q. Membership operation\n",
    "# in, not in are two membership operators and it returns boolean value\n",
    "print('2' in 'Python2.7.8')             # True\n",
    "print(10 in [10,10.20,10+20j,'Python']) # True\n",
    "print(10 in (10,10.20,10+20j,'Python')) # True\n",
    "print(2 in {1,2,3})                     # True\n",
    "print(2 in {1:100, 2:200, 3:300})       # True\n",
    "print(10 in range(20))                  # True"
   ]
  },
  {
   "cell_type": "code",
   "execution_count": 2,
   "id": "f083bee5",
   "metadata": {},
   "outputs": [
    {
     "name": "stdout",
     "output_type": "stream",
     "text": [
      "80\n",
      "3870\n",
      "64222\n",
      "0b1010000\n",
      "0o7436\n",
      "0xfade\n",
      "0b1010000\n",
      "0b1111101011011110\n",
      "0o175336\n",
      "0o7436\n",
      "0x50\n",
      "0xfade\n"
     ]
    }
   ],
   "source": [
    "# Q. What will be the output of following:-\n",
    "a = 0b1010000\n",
    "print(a) \n",
    "b = 0o7436\n",
    "print(b)\n",
    "c = 0xfade\n",
    "print(c)\n",
    "print(bin(80))\n",
    "print(oct(3870))\n",
    "print(hex(64222))\n",
    "print(bin(0b1010000))\n",
    "print(bin(0xfade))\n",
    "print(oct(0xfade))\n",
    "print(oct(0o7436))\n",
    "print(hex(0b1010000))\n",
    "print(hex(0xfade))"
   ]
  }
 ],
 "metadata": {
  "kernelspec": {
   "display_name": "Python 3 (ipykernel)",
   "language": "python",
   "name": "python3"
  },
  "language_info": {
   "codemirror_mode": {
    "name": "ipython",
    "version": 3
   },
   "file_extension": ".py",
   "mimetype": "text/x-python",
   "name": "python",
   "nbconvert_exporter": "python",
   "pygments_lexer": "ipython3",
   "version": "3.9.7"
  }
 },
 "nbformat": 4,
 "nbformat_minor": 5
}
