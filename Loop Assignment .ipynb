{
 "cells": [
  {
   "cell_type": "code",
   "execution_count": 16,
   "id": "31dd78be",
   "metadata": {},
   "outputs": [
    {
     "name": "stdout",
     "output_type": "stream",
     "text": [
      "Enter the input number with in 0-9 range5\n",
      "output:  Five\n",
      "Enter the input number with in 0-9 range6\n",
      "output:  Six\n",
      "Enter the input number with in 0-9 range99\n",
      "The number which you have entered is outside of the range\n"
     ]
    }
   ],
   "source": [
    "# Q. W. A P. which takes one number from 0 to 9 from the user and prints\n",
    "# it in the word. And if the word is not from 0 to 9 then\n",
    "# it should print that number is outside of the range and program should\n",
    "# exit.\n",
    "# For exapmple:-\n",
    "# input = 1\n",
    "# output = one\n",
    "\n",
    "numbers = {0:\"Zero\",1:\"One\",2:\"Two\",3:\"Three\",4:\"Four\",5:\"Five\",6:\"Six\",7:\"Seven\",8:\"Eight\",9:\"Nine\"}\n",
    "while True:\n",
    "    input_number = int(input(\"Enter the input number with in 0-9 range: \"))\n",
    "    if input_number in numbers:\n",
    "        print(\"output: \",numbers[input_number])\n",
    "    else:\n",
    "        print(\"The number which you have entered is outside of the range\")\n",
    "        break"
   ]
  },
  {
   "cell_type": "code",
   "execution_count": 25,
   "id": "c08f5a8c",
   "metadata": {},
   "outputs": [
    {
     "name": "stdout",
     "output_type": "stream",
     "text": [
      "Enter the First value: 40\n",
      "Enter the Second value: 10\n",
      "1  :  Addition\n",
      "2  :  Substration\n",
      "3  :  Multiply\n",
      "4  :  Devide\n",
      "5  :  Quotient\n",
      "6  :  Remainder\n",
      "7  :  Power\n",
      "8  :  Exit\n",
      "Please select any one number from Above : 8\n",
      "8\n"
     ]
    }
   ],
   "source": [
    "# Q. W. A P. to implement calculator but the operation to be done and two\n",
    "# numbers will be taken as input from user:-\n",
    "# Operation console should show below:-\n",
    "# Please select any one operation from below:-\n",
    "# * To add enter 1\n",
    "# * to subtract enter 2\n",
    "# * To multiply enter 3\n",
    "# * To divide enter 4\n",
    "# * To divide and find quotient enter 5\n",
    "# * To divide and find remainder enter 6\n",
    "# * To divide and find num1 to the power of num2 enter 7\n",
    "# * To Come out of the program enter 8\n",
    "operation={1:\"Addition\",2:\"Substration\",3:\"Multiply\",4:\"Devide\",5:\"Quotient\",6:\"Remainder\",7:\"Power\",8:\"Exit\"}\n",
    "while True:\n",
    "    F_val = int(input(\"Enter the First value: \"))\n",
    "    S_val = int(input(\"Enter the Second value: \"))\n",
    "    Result =0    \n",
    "    for i in operation:\n",
    "        print(i,\" : \" , operation[i])\n",
    "    op = int(input(\"Please select any one number from Above : \"))\n",
    "    if op == 1:\n",
    "        Result = F_val + S_val \n",
    "    elif op==2:\n",
    "        Result = F_val - S_val\n",
    "    elif op==3:\n",
    "        Result = F_val * S_val   \n",
    "    elif op==4:\n",
    "        Result = F_val / S_val \n",
    "    elif op==5:\n",
    "        Result = F_val // S_val\n",
    "    elif op==6:\n",
    "        Result = F_val % S_val\n",
    "    elif op==7:\n",
    "        Result = F_val ** S_val\n",
    "    else:\n",
    "        break\n",
    "    print(f\"{operation[op]} of {F_val} and {S_val} is : {Result}\")\n"
   ]
  },
  {
   "cell_type": "code",
   "execution_count": 5,
   "id": "1a6eb71f",
   "metadata": {},
   "outputs": [
    {
     "name": "stdout",
     "output_type": "stream",
     "text": [
      "Enter the value: 5\n",
      "5 is an Odd Number\n"
     ]
    }
   ],
   "source": [
    "# Q. W A P which takes one number from the user and checks whether it is\n",
    "# an even or odd number?, If it even then prints number is\n",
    "# even number else prints that number is odd number.\n",
    "\n",
    "num = int(input(\"Enter the value: \"))\n",
    "print(f\"{num} is an Even Number\" if num%2==0 else f\"{num} is an Odd Number\")"
   ]
  },
  {
   "cell_type": "code",
   "execution_count": 10,
   "id": "b84ffa47",
   "metadata": {},
   "outputs": [
    {
     "name": "stdout",
     "output_type": "stream",
     "text": [
      "Enter the value: 1600\n",
      "1600 is a leap year\n"
     ]
    }
   ],
   "source": [
    "# W A P to check whether a year entered by user is an leap year or not?\n",
    "# Check with below input:-\n",
    "\n",
    "year = int(input(\"Enter the value: \"))\n",
    "if year%400 ==0 or year%4==0 and year%100!=0:\n",
    "    print(f'{year } is a leap year')\n",
    "else:\n",
    "    print(f'{year } is not a leap year')\n"
   ]
  },
  {
   "cell_type": "code",
   "execution_count": 14,
   "id": "48ca9010",
   "metadata": {},
   "outputs": [
    {
     "name": "stdout",
     "output_type": "stream",
     "text": [
      "Enter the value 1: 30\n",
      "Enter the value 2: 20\n",
      "30 is greater then 20\n"
     ]
    }
   ],
   "source": [
    "# Q. W A P which takes two numbers from the user and prints below output:-\n",
    "# 1. num1 is greater than num2 if num1 is greater than num2\n",
    "# 2. num1 is smaller than num2 if num1 is smaller than num2\n",
    "# 3. num1 is equal to num2 if num1 and num2 are equal\n",
    "\n",
    "num1 = int(input(\"Enter the value 1: \"))\n",
    "num2 = int(input(\"Enter the value 2: \"))\n",
    "# if num1==num2:\n",
    "#     print(f\"{num1} and {num2} both are equal\")\n",
    "# elif num1>num2:\n",
    "#     print(f\"{num1} is greater than {num2}\")\n",
    "# else:\n",
    "#     print(f\"{num1} is smaller than {num2}\")\n",
    "\n",
    "print(f\"{num1} and {num2} are equal\" if num1==num2 else f\"{num1} is greater than {num2}\" if num1>num2 else f\"{num1} is smaller than {num2}\")"
   ]
  },
  {
   "cell_type": "code",
   "execution_count": 17,
   "id": "fe885f17",
   "metadata": {},
   "outputs": [
    {
     "name": "stdout",
     "output_type": "stream",
     "text": [
      "Enter the value 1: 40\n",
      "Enter the value 2: 3\n",
      "Enter the value 3: 4\n",
      "40 is greatest value\n"
     ]
    }
   ],
   "source": [
    "# Q. W A P which takes three numbers from the user and prints below\n",
    "# output:-\n",
    "# 1. num1 is greater than num2 and num3 if num1 is greater than num2\n",
    "# and num3\n",
    "# 2. num2 is greater than num1 and num3 if num2 is greater than num1\n",
    "# and num3\n",
    "\n",
    "# 3. num3 is greater than num1 and num2 if num3 is greater than num1\n",
    "# and num2\n",
    "# Note:- 1. Do this problem using if - elif - else\n",
    "# 2. Do this using ternary operator\n",
    "\n",
    "num1 = int(input(\"Enter the value 1: \"))\n",
    "num2 = int(input(\"Enter the value 2: \"))\n",
    "num3 = int(input(\"Enter the value 3: \"))\n",
    "\n",
    "print(f\"{num1} is greatest value\" if num1>num2 and num1>num3 else f\"{num2} is greatest value\" if  num2>num3 else f\"{num3} is greatest value\")\n"
   ]
  },
  {
   "cell_type": "code",
   "execution_count": 18,
   "id": "659acf13",
   "metadata": {},
   "outputs": [
    {
     "name": "stdout",
     "output_type": "stream",
     "text": [
      "55\n"
     ]
    }
   ],
   "source": [
    "# Q. Write a Python program to find the length of the my_str using loop:-\n",
    "# Input:- 'Write a Python program to find the length of the my_str'\n",
    "# Output:- 55\n",
    "\n",
    "my_str= 'Write a Python program to find the length of the my_str'\n",
    "length = 0\n",
    "for i in my_str:\n",
    "    length = length+1\n",
    "print(length)"
   ]
  },
  {
   "cell_type": "code",
   "execution_count": 20,
   "id": "d515dbfd",
   "metadata": {},
   "outputs": [
    {
     "name": "stdout",
     "output_type": "stream",
     "text": [
      "9\n"
     ]
    }
   ],
   "source": [
    "# Q. Write a Python program to find the total number of times letter 'p'\n",
    "# is appeared in the below string using loop:-\n",
    "# Input:- 'peter piper picked a peck of pickled peppers.\\n'\n",
    "# Output:- 9\n",
    "my_str = 'peter piper picked a peck of pickled peppers.\\n'\n",
    "count = 0\n",
    "for i in my_str:\n",
    "    if i == \"p\":\n",
    "        count += 1\n",
    "print(count)"
   ]
  },
  {
   "cell_type": "code",
   "execution_count": 31,
   "id": "58319030",
   "metadata": {},
   "outputs": [
    {
     "name": "stdout",
     "output_type": "stream",
     "text": [
      "0\n",
      "6\n",
      "8\n",
      "12\n",
      "21\n",
      "29\n",
      "37\n",
      "39\n",
      "40\n"
     ]
    }
   ],
   "source": [
    "# Q. Write a Python Program, to print all the indexes of all occurences of\n",
    "# letter 'p' appeared in the string using loop:-\n",
    "# Input:- 'peter piper picked a peck of pickled peppers.'\n",
    "# Output:-\n",
    "# 0\n",
    "# 6\n",
    "# 8\n",
    "# 12\n",
    "# 21\n",
    "# 29\n",
    "# 37\n",
    "# 39\n",
    "# 40\n",
    "\n",
    "my_str = 'peter piper picked a peck of pickled peppers.'\n",
    "for i in range(0,len(my_str)):\n",
    "    if my_str[i] == \"p\":\n",
    "        print(i)\n",
    "  \n"
   ]
  },
  {
   "cell_type": "code",
   "execution_count": 21,
   "id": "48484ce1",
   "metadata": {},
   "outputs": [
    {
     "name": "stdout",
     "output_type": "stream",
     "text": [
      "['peter', 'piper', 'picked', 'a', 'peck', 'of', 'pickled', 'peppers.']\n"
     ]
    }
   ],
   "source": [
    "# Q. Write a python program to find below output using loop:-\n",
    "# Input:- 'peter piper picked a peck of pickled peppers.'\n",
    "# Output:- ['peter', 'piper', 'picked', 'a', 'peck', 'of', 'pickled',\n",
    "# 'peppers']\n",
    "lst =[]\n",
    "s=\"\"\n",
    "input_str = 'peter piper picked a peck of pickled peppers.'\n",
    "for i in input_str:\n",
    "    if i == \" \":\n",
    "        lst += [s]\n",
    "        \n",
    "        s=\"\"\n",
    "    elif i == input_str[len(input_str)-1]:\n",
    "        lst += [s+i]\n",
    "    else:\n",
    "        s += i\n",
    "        \n",
    "print(lst)\n",
    "    "
   ]
  },
  {
   "cell_type": "code",
   "execution_count": 24,
   "id": "f0b89016",
   "metadata": {},
   "outputs": [
    {
     "name": "stdout",
     "output_type": "stream",
     "text": [
      "peppers. pickled of peck a picked piper peter\n"
     ]
    }
   ],
   "source": [
    "# Q. Write a python program to find below output using loop:-\n",
    "# Input:- 'peter piper picked a peck of pickled peppers.'\n",
    "# Output:- 'peppers pickled of peck a picked piper peter'\n",
    "lst = \"\"\n",
    "s=\"\"\n",
    "input_str = 'peter piper picked a peck of pickled peppers.'\n",
    "for i in range(-1,-len(input_str)-1,-1):\n",
    "    if input_str[i] == \" \":\n",
    "        lst += s + \" \"\n",
    "        s=\"\"\n",
    "    elif i == -len(input_str):\n",
    "        lst += input_str[i]+s\n",
    "    else:\n",
    "        s = input_str[i] + s\n",
    "        \n",
    "print(lst)"
   ]
  },
  {
   "cell_type": "code",
   "execution_count": 26,
   "id": "7cdb7b9a",
   "metadata": {},
   "outputs": [
    {
     "name": "stdout",
     "output_type": "stream",
     "text": [
      ".sreppep delkcip fo kcep a dekcip repip retep\n"
     ]
    }
   ],
   "source": [
    "# Q. Write a python program to find below output using loop:-\n",
    "# Input:- 'peter piper picked a peck of pickled peppers.'\n",
    "# Output:- '.sreppep delkcip fo kcep a dekcip repip retep'\n",
    "\n",
    "input_str = 'peter piper picked a peck of pickled peppers.'\n",
    "n =\"\"\n",
    "for i in range(-1,-len(input_str)-1,-1):\n",
    "    n += input_str[i]\n",
    "print(n)"
   ]
  },
  {
   "cell_type": "code",
   "execution_count": 26,
   "id": "3d940135",
   "metadata": {},
   "outputs": [
    {
     "name": "stdout",
     "output_type": "stream",
     "text": [
      "retep repip dekcip a kcep fo delkcip .sreppep\n"
     ]
    }
   ],
   "source": [
    "# Q. Write a python program to find below output using loop:-\n",
    "# Input:- 'peter piper picked a peck of pickled peppers.'\n",
    "# Output:- 'retep repip dekcip a kcep fo delkcip sreppep'\n",
    "lst=\"\"\n",
    "input_str = 'peter piper picked a peck of pickled peppers.'\n",
    "s=\"\"\n",
    "for i in input_str:\n",
    "    if i == \" \":\n",
    "        lst += s +\" \"\n",
    "        s=\"\"\n",
    "    elif i == input_str[len(input_str)-1]:\n",
    "        lst += i+s\n",
    "    else:\n",
    "        s = i + s\n",
    "print(lst)"
   ]
  },
  {
   "cell_type": "code",
   "execution_count": 65,
   "id": "a4b3972d",
   "metadata": {},
   "outputs": [
    {
     "name": "stdout",
     "output_type": "stream",
     "text": [
      "Peter Piper Picked A Peck Of Pickled Peppers.\n"
     ]
    }
   ],
   "source": [
    "# Q. Write a python program to find below output using loop:-\n",
    "# Input:- 'peter piper picked a peck of pickled peppers.'\n",
    "# Output:- 'Peter Piper Picked A Peck Of Pickled Peppers'\n",
    "lst=\"\"\n",
    "input_str = 'peter piper picked a peck of pickled peppers.'\n",
    "s=\"\"\n",
    "for i in range(0,len(input_str)):\n",
    "    if input_str[i] == \" \":\n",
    "        lst += s.title() +\" \"\n",
    "        s= \"\"\n",
    "    elif i == len(input_str)-1:\n",
    "         lst += s.title()+input_str[i]\n",
    "        \n",
    "    else:\n",
    "        s += input_str[i]\n",
    "print(lst)"
   ]
  },
  {
   "cell_type": "code",
   "execution_count": 5,
   "id": "4c148d30",
   "metadata": {},
   "outputs": [
    {
     "name": "stdout",
     "output_type": "stream",
     "text": [
      "input : Peter Piper Picked A Peck Of Pickled Peppers.\n",
      "output: peter piper picked a peck of pickled peppers.\n"
     ]
    }
   ],
   "source": [
    "# Q. Write a python program to find below output using loop:-\n",
    "# Input:- 'Peter Piper Picked A Peck Of Pickled Peppers.'\n",
    "# Output:- 'peter piper picked a peck of pickled peppers'\n",
    "\n",
    "\n",
    "input_str = 'Peter Piper Picked A Peck Of Pickled Peppers.'\n",
    "s,up,lst=\"\",\"\",\"\"\n",
    "\n",
    "for i in range(0,len(input_str)):\n",
    "    if input_str[i] == \" \":\n",
    "        up = s[0].lower()\n",
    "        for j in range(1,len(s)):\n",
    "            up += s[j]\n",
    "        lst += up +\" \"\n",
    "        s= \"\"\n",
    "        up=\"\"\n",
    "    elif i == len(input_str)-1:\n",
    "        s+= input_str[i]\n",
    "        up = s[0].lower()\n",
    "        for j in range(1,len(s)):\n",
    "            up += s[j]\n",
    "        lst += up \n",
    "        \n",
    "    else:\n",
    "        s += input_str[i]\n",
    "        \n",
    "print(\"input :\",input_str )\n",
    "print(\"output:\",lst)"
   ]
  },
  {
   "cell_type": "code",
   "execution_count": 56,
   "id": "cb685f30",
   "metadata": {},
   "outputs": [
    {
     "name": "stdout",
     "output_type": "stream",
     "text": [
      "Index of the Pickl is  =  29\n"
     ]
    }
   ],
   "source": [
    "# Q. Write a python program to implement index method using loop. If\n",
    "# sub_str is found in my_str then it will print the index\n",
    "# of first occurrence of first character of matching string in my_str:-\n",
    "# Input:- my_str = 'Peter Piper Picked A Peck Of Pickled Peppers.',\n",
    "# sub_str = 'Pickl'\n",
    "# Output:- 29\n",
    "\n",
    "my_str = 'Peter Piper Picked A Peck Of Pickled Peppers pickl.'\n",
    "# print(my_str.index(\"Pickl\"))\n",
    "sub_str= 'Pickl'\n",
    "l = len(sub_str)\n",
    "for i in range(0,len(my_str)):\n",
    "    if sub_str == my_str[i:l]:\n",
    "        print(f\"Index of the {my_str[i:l]} is  = \", i)\n",
    "        break\n",
    "    l+=1"
   ]
  },
  {
   "cell_type": "code",
   "execution_count": 3,
   "id": "b52ebe55",
   "metadata": {},
   "outputs": [
    {
     "name": "stdout",
     "output_type": "stream",
     "text": [
      "Peter Piper Picked A Pack Of Pickled Peppers.\n"
     ]
    }
   ],
   "source": [
    "# Q. Write a python program to implement replace method using loop. If\n",
    "# sub_str is found in my_str then it will replace the first\n",
    "# occurrence of sub_str with new_str else it will will print sub_str not\n",
    "# found:-\n",
    "# Input:- my_str = 'Peter Piper Picked A Peck Of Pickled Peppers.',\n",
    "# sub_str = 'Peck', new_str = 'Pack'\n",
    "# Output:- 'Peter Piper Picked A Pack Of Pickled Peppers.'\n",
    "my_str = 'Peter Piper Picked A Peck Of Pickled Peppers.'\n",
    "r=\"\"\n",
    "sub_str= 'Peck'\n",
    "new_str = 'Pack'\n",
    "l2 = len(new_str)\n",
    "l = len(sub_str)\n",
    "for i in range(0,len(my_str)):\n",
    "    if sub_str == my_str[i:l]:\n",
    "        r = my_str[0:i]+new_str+ my_str[i+l2:len(my_str)]      \n",
    "    l+=1\n",
    "print(r)    "
   ]
  },
  {
   "cell_type": "code",
   "execution_count": 15,
   "id": "2d307050",
   "metadata": {},
   "outputs": [
    {
     "name": "stdout",
     "output_type": "stream",
     "text": [
      "Input:  Peter Piper Picked A Peck Of Pickled Peppers.\n",
      "output: *********************Peck********************\n"
     ]
    }
   ],
   "source": [
    "# Q. Write a python program to find below output (implements rjust and\n",
    "# ljust) using loop:-\n",
    "# Input:- 'Peter Piper Picked A Peck Of Pickled Peppers.', sub_str =\n",
    "# 'Peck',\n",
    "# Output:- '*********************Peck********************'\n",
    "my_str= 'Peter Piper Picked A Peck Of Pickled Peppers.'\n",
    "sub_str ='Peck'\n",
    "r=\"\"\n",
    "l= len(sub_str)\n",
    "for i in range(0,len(my_str)-l+1): \n",
    "    if sub_str == my_str[i:i+l]:\n",
    "        for j in sub_str:\n",
    "            r += j \n",
    "    else:\n",
    "        r += \"*\"\n",
    "print(\"Input: \",my_str)\n",
    "print(\"output:\",r)"
   ]
  },
  {
   "cell_type": "code",
   "execution_count": 26,
   "id": "da3964e4",
   "metadata": {},
   "outputs": [
    {
     "name": "stdout",
     "output_type": "stream",
     "text": [
      "['This', ' is', 'is Python class']\n"
     ]
    }
   ],
   "source": [
    "# Q. Write a python program to find below output using loop:-\n",
    "# Input:- 'This is Python class is good', sep = ' is',\n",
    "# Output:- ['This', 'is', 'Python class']\n",
    "my_str = 'This is Python class'\n",
    "# print(list(my_str))\n",
    "sep = ' is'\n",
    "l = len(sep)\n",
    "lst =[]\n",
    "s =\"\"\n",
    "for i in range(0,len(my_str)):\n",
    "    \n",
    "    if sep == my_str[i:l+i]:\n",
    "        lst += [s]\n",
    "        lst += [sep]\n",
    "        s=\"\"\n",
    "        \n",
    "    elif i == len(my_str)-1:\n",
    "         lst += [s+my_str[i]]\n",
    "    else:\n",
    "        s += my_str[i]\n",
    "\n",
    "        \n",
    "        \n",
    "print(lst)    \n"
   ]
  },
  {
   "cell_type": "code",
   "execution_count": null,
   "id": "9e58f5a8",
   "metadata": {},
   "outputs": [],
   "source": []
  }
 ],
 "metadata": {
  "kernelspec": {
   "display_name": "Python 3 (ipykernel)",
   "language": "python",
   "name": "python3"
  },
  "language_info": {
   "codemirror_mode": {
    "name": "ipython",
    "version": 3
   },
   "file_extension": ".py",
   "mimetype": "text/x-python",
   "name": "python",
   "nbconvert_exporter": "python",
   "pygments_lexer": "ipython3",
   "version": "3.9.7"
  }
 },
 "nbformat": 4,
 "nbformat_minor": 5
}
